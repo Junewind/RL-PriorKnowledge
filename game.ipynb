{
 "cells": [
  {
   "cell_type": "code",
   "execution_count": 1,
   "metadata": {},
   "outputs": [
    {
     "name": "stdout",
     "output_type": "stream",
     "text": [
      "pygame 1.9.6\n",
      "Hello from the pygame community. https://www.pygame.org/contribute.html\n",
      "couldn't import doomish\n"
     ]
    }
   ],
   "source": [
    "from ple.games import *\n",
    "from ple import PLE"
   ]
  },
  {
   "cell_type": "markdown",
   "metadata": {},
   "source": [
    "Updates and how to use them:\n",
    "\n",
    "1. Define a reward dictionary with the following keys: \"positive\", \"negative\", \"tick\", \"loss\", \"win\". Pass it to the PLE object under the argument reward_values. Negative, tick and positive keys checked and working.\n",
    "2. Pass the path to the .txt map file as a string to the originalGame object like so : originalGame('/path/to/map.txt')\n",
    "3. Pass the experiment name as a string to originalGame object like so: originalGame('/path/to/map.txt', 'fire')\n",
    "options:\n",
    "'fire' - Places the princess on the ground floor for fire experiments\n",
    "'ladder' - Places the princess on the first floor for ladder experiments\n",
    "None(default) - Places the princess on the \"top\" floor as seen in the original code.\n",
    "\n",
    "# EXAMPLE USAGE\n",
    "\n",
    "<code>\n",
    "    \n",
    "mapname = 'enemies.txt'\n",
    "experiment = 'fire' # choose between ladder/fire/None\n",
    "\n",
    "game = originalGame(mapname, experiment)\n",
    "\n",
    "rewards = {\n",
    "    \"positive\": 1.0,\n",
    "    \"negative\": -1.0,\n",
    "    \"tick\": 1.0,\n",
    "    \"loss\": -5.0,\n",
    "    \"win\": 5.0\n",
    "}\n",
    "\n",
    "p = PLE(game, fps=30, reward_values = rewards, display_screen=True, force_fps=True)\n",
    "\n",
    "p.init()\n",
    "    \n",
    "</code>"
   ]
  },
  {
   "cell_type": "code",
   "execution_count": 2,
   "metadata": {},
   "outputs": [],
   "source": [
    "mapname = 'enemies.txt'\n",
    "experiment = 'fire' # choose between ladder/fire/None"
   ]
  },
  {
   "cell_type": "code",
   "execution_count": 3,
   "metadata": {},
   "outputs": [],
   "source": [
    "game = originalGame(mapname, experiment)"
   ]
  },
  {
   "cell_type": "code",
   "execution_count": 4,
   "metadata": {},
   "outputs": [],
   "source": [
    "rewards = {\n",
    "    \"positive\": 1.0,\n",
    "    \"negative\": -1.0,\n",
    "    \"tick\": 1.0,\n",
    "    \"loss\": -5.0,\n",
    "    \"win\": 5.0\n",
    "}"
   ]
  },
  {
   "cell_type": "code",
   "execution_count": 5,
   "metadata": {},
   "outputs": [
    {
     "name": "stdout",
     "output_type": "stream",
     "text": [
      "{'negative': -1.0, 'tick': 1.0, 'win': 5.0, 'loss': -5.0, 'positive': 1.0}\n"
     ]
    }
   ],
   "source": [
    "p = PLE(game, fps=30, reward_values = rewards, display_screen=True, force_fps=True)\n",
    "p.init()"
   ]
  },
  {
   "cell_type": "code",
   "execution_count": 6,
   "metadata": {},
   "outputs": [],
   "source": [
    "from examples.random_agent import NaiveAgent"
   ]
  },
  {
   "cell_type": "code",
   "execution_count": 7,
   "metadata": {},
   "outputs": [],
   "source": [
    "myAgent = NaiveAgent(p.getActionSet())"
   ]
  },
  {
   "cell_type": "code",
   "execution_count": 8,
   "metadata": {},
   "outputs": [],
   "source": [
    "nb_frames = 1000\n",
    "reward = 0.0\n",
    "total_reward = 0.0\n",
    "action_set = []\n",
    "obs_set = []\n",
    "for f in range(nb_frames):\n",
    "    if p.game_over(): #check if the game is over\n",
    "        p.reset_game()\n",
    "\n",
    "    obs_set.append(p.getScreenRGB())\n",
    "    action_set.append(myAgent.pickAction(reward, obs_set[-1]))\n",
    "    reward = p.act(action_set[-1])\n",
    "    total_reward += reward\n"
   ]
  },
  {
   "cell_type": "code",
   "execution_count": null,
   "metadata": {},
   "outputs": [],
   "source": []
  }
 ],
 "metadata": {
  "kernelspec": {
   "display_name": "Python 3",
   "language": "python",
   "name": "python3"
  },
  "language_info": {
   "codemirror_mode": {
    "name": "ipython",
    "version": 3
   },
   "file_extension": ".py",
   "mimetype": "text/x-python",
   "name": "python",
   "nbconvert_exporter": "python",
   "pygments_lexer": "ipython3",
   "version": "3.5.6"
  }
 },
 "nbformat": 4,
 "nbformat_minor": 4
}
