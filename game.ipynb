{
 "cells": [
  {
   "cell_type": "code",
   "execution_count": 1,
   "metadata": {},
   "outputs": [
    {
     "name": "stdout",
     "output_type": "stream",
     "text": [
      "pygame 1.9.6\n",
      "Hello from the pygame community. https://www.pygame.org/contribute.html\n",
      "couldn't import doomish\n"
     ]
    }
   ],
   "source": [
    "from ple.games import *\n",
    "from ple import PLE"
   ]
  },
  {
   "cell_type": "code",
   "execution_count": 2,
   "metadata": {},
   "outputs": [],
   "source": [
    "mapname = 'fire_3.txt'\n",
    "experiment = 'fire' # choose between ladder/fire/None"
   ]
  },
  {
   "cell_type": "code",
   "execution_count": 3,
   "metadata": {},
   "outputs": [],
   "source": [
    "game = originalGame(mapname, experiment)"
   ]
  },
  {
   "cell_type": "code",
   "execution_count": 4,
   "metadata": {},
   "outputs": [],
   "source": [
    "rewards = {\n",
    "    \"positive\": 1.0,\n",
    "    \"negative\": -1.0,\n",
    "    \"tick\": 1.0,\n",
    "    \"loss\": -5.0,\n",
    "    \"win\": 5.0\n",
    "}"
   ]
  },
  {
   "cell_type": "code",
   "execution_count": 5,
   "metadata": {},
   "outputs": [
    {
     "name": "stdout",
     "output_type": "stream",
     "text": [
      "{'positive': 1.0, 'loss': -5.0, 'negative': -1.0, 'win': 5.0, 'tick': 1.0}\n"
     ]
    }
   ],
   "source": [
    "p = PLE(game, fps=30, reward_values = rewards, display_screen=True, force_fps=True)\n",
    "p.init()"
   ]
  },
  {
   "cell_type": "code",
   "execution_count": 6,
   "metadata": {},
   "outputs": [],
   "source": [
    "from examples.random_agent import NaiveAgent"
   ]
  },
  {
   "cell_type": "code",
   "execution_count": 7,
   "metadata": {},
   "outputs": [],
   "source": [
    "myAgent = NaiveAgent(p.getActionSet())"
   ]
  },
  {
   "cell_type": "code",
   "execution_count": 8,
   "metadata": {},
   "outputs": [],
   "source": [
    "nb_frames = 1000\n",
    "reward = 0.0\n",
    "total_reward = 0.0\n",
    "action_set = []\n",
    "obs_set = []\n",
    "for f in range(nb_frames):\n",
    "    if p.game_over(): #check if the game is over\n",
    "        p.reset_game()\n",
    "\n",
    "    obs_set.append(p.getScreenRGB())\n",
    "    action_set.append(myAgent.pickAction(reward, obs_set[-1]))\n",
    "    reward = p.act(action_set[-1])\n",
    "    total_reward += reward\n"
   ]
  },
  {
   "cell_type": "code",
   "execution_count": null,
   "metadata": {},
   "outputs": [],
   "source": []
  }
 ],
 "metadata": {
  "kernelspec": {
   "display_name": "Python 3",
   "language": "python",
   "name": "python3"
  },
  "language_info": {
   "codemirror_mode": {
    "name": "ipython",
    "version": 3
   },
   "file_extension": ".py",
   "mimetype": "text/x-python",
   "name": "python",
   "nbconvert_exporter": "python",
   "pygments_lexer": "ipython3",
   "version": "3.5.6"
  }
 },
 "nbformat": 4,
 "nbformat_minor": 4
}
